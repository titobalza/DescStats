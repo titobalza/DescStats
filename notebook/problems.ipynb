{
    "cells": [
        {
            "cell_type": "markdown",
            "id": "ac622319",
            "metadata": {},
            "source": [
                "# Descriptive statistics problems"
            ]
        },
        {
            "cell_type": "markdown",
            "id": "5e0ab0d5",
            "metadata": {},
            "source": [
                "### Exercise 1\n",
                "\n",
                "We will use NumPy to obtain information to describe statistically.\n",
                "\n",
                "- Generate an array of 100 elements following a normal distribution.\n",
                "- Generate an array of 100 elements following a chi-square distribution with 3 degrees of freedom.\n",
                "- Calculate the main metrics and statistical measures that best describe the two vectors."
            ]
        },
        {
            "cell_type": "code",
            "execution_count": 8,
            "id": "34720ab6",
            "metadata": {},
            "outputs": [
                {
                    "name": "stdout",
                    "output_type": "stream",
                    "text": [
                        "Normal Distribution:\n",
                        "Mean:  0.07843823053865641\n",
                        "Median:  -0.13960978466130763\n",
                        "Mode:  -2.94166847778215\n",
                        "Standard Deviation:  1.052999711760979\n",
                        "Variance:  1.108808392968705\n",
                        "Min:  -2.94166847778215\n",
                        "Max:  3.422522972639663\n",
                        "25th Percentile:  -0.7363323225610916\n",
                        "75th Percentile:  0.7659545339405801\n",
                        "\n",
                        "Chi-Square Distribution:\n",
                        "Mean:  3.0894358010367524\n",
                        "Median:  2.4019997799544903\n",
                        "Mode:  0.07491614238147744\n",
                        "Standard Deviation:  2.80236373158256\n",
                        "Variance:  7.85324248408933\n",
                        "Min:  0.07491614238147744\n",
                        "Max:  15.773334057836534\n",
                        "25th Percentile:  1.1670186232449145\n",
                        "75th Percentile:  3.96191594965543\n"
                    ]
                }
            ],
            "source": [
                "import numpy as np\n",
                "from scipy import stats\n",
                "\n",
                "normal_array = np.random.normal(0, 1, 100)\n",
                "\n",
                "chi_square_array = np.random.chisquare(3, 100)\n",
                "\n",
                "print(\"Normal Distribution:\")\n",
                "print(\"Mean: \", np.mean(normal_array))\n",
                "print(\"Median: \", np.median(normal_array))\n",
                "print(\"Mode: \", stats.mode(normal_array).mode)\n",
                "print(\"Standard Deviation: \", np.std(normal_array))\n",
                "print(\"Variance: \", np.var(normal_array))\n",
                "print(\"Min: \", np.min(normal_array))\n",
                "print(\"Max: \", np.max(normal_array))\n",
                "print(\"25th Percentile: \", np.percentile(normal_array, 25))\n",
                "print(\"75th Percentile: \", np.percentile(normal_array, 75))\n",
                "\n",
                "print(\"\\nChi-Square Distribution:\")\n",
                "print(\"Mean: \", np.mean(chi_square_array))\n",
                "print(\"Median: \", np.median(chi_square_array))\n",
                "print(\"Mode: \", stats.mode(chi_square_array).mode)\n",
                "print(\"Standard Deviation: \", np.std(chi_square_array))\n",
                "print(\"Variance: \", np.var(chi_square_array))\n",
                "print(\"Min: \", np.min(chi_square_array))\n",
                "print(\"Max: \", np.max(chi_square_array))\n",
                "print(\"25th Percentile: \", np.percentile(chi_square_array, 25))\n",
                "print(\"75th Percentile: \", np.percentile(chi_square_array, 75))"
            ]
        },
        {
            "cell_type": "markdown",
            "id": "46c70c3d",
            "metadata": {},
            "source": [
                "### Exercise 2\n",
                "\n",
                "Write a Python program to calculate the standard deviation of the following data:\n",
                "\n",
                "```py\n",
                "data = [4, 2, 5, 8, 6]\n",
                "```"
            ]
        },
        {
            "cell_type": "code",
            "execution_count": 10,
            "id": "d590308e",
            "metadata": {},
            "outputs": [
                {
                    "name": "stdout",
                    "output_type": "stream",
                    "text": [
                        "The standard deviation of the data is:  2.0\n"
                    ]
                }
            ],
            "source": [
                "data = [4, 2, 5, 8, 6]\n",
                "std_dev = np.std(data)\n",
                "print(\"The standard deviation of the data is: \", std_dev)"
            ]
        }
    ],
    "metadata": {
        "interpreter": {
            "hash": "9248718ffe6ce6938b217e69dbcc175ea21f4c6b28a317e96c05334edae734bb"
        },
        "kernelspec": {
            "display_name": "Python 3.9.12 ('ML-BOOTCAMP')",
            "language": "python",
            "name": "python3"
        },
        "language_info": {
            "codemirror_mode": {
                "name": "ipython",
                "version": 3
            },
            "file_extension": ".py",
            "mimetype": "text/x-python",
            "name": "python",
            "nbconvert_exporter": "python",
            "pygments_lexer": "ipython3",
            "version": "3.12.4"
        }
    },
    "nbformat": 4,
    "nbformat_minor": 5
}
